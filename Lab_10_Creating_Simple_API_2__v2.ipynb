{
  "nbformat": 4,
  "nbformat_minor": 0,
  "metadata": {
    "kernelspec": {
      "display_name": "Python 3",
      "language": "python",
      "name": "python3"
    },
    "language_info": {
      "codemirror_mode": {
        "name": "ipython",
        "version": 3
      },
      "file_extension": ".py",
      "mimetype": "text/x-python",
      "name": "python",
      "nbconvert_exporter": "python",
      "pygments_lexer": "ipython3",
      "version": "3.7.6"
    },
    "colab": {
      "name": "Lab 10-Creating_Simple_API_2__v2.ipynb",
      "provenance": []
    }
  },
  "cells": [
    {
      "cell_type": "markdown",
      "metadata": {
        "id": "1rIDqkpLYB2A"
      },
      "source": [
        "<center>\n",
        "    <img src=\"https://cf-courses-data.s3.us.cloud-object-storage.appdomain.cloud/IBMDeveloperSkillsNetwork-PY0101EN-SkillsNetwork/IDSNlogo.png\" width=\"300\" alt=\"cognitiveclass.ai logo\"  />\n",
        "</center>\n",
        "\n",
        "# Application Programming Interface\n",
        "\n",
        "Estimated time needed: **15** minutes\n",
        "\n",
        "## Objectives\n",
        "\n",
        "After completing this lab you will be able to:\n",
        "\n",
        "-   Create and Use APIs in Python\n"
      ]
    },
    {
      "cell_type": "markdown",
      "metadata": {
        "id": "O8yNd7hxYB2S"
      },
      "source": [
        "### Introduction\n",
        "\n",
        "An API lets two pieces of software talk to each other. Just like a function,  you don’t have to know how the API works only its inputs and outputs.  An essential type of API is a REST API that allows you to access resources via the internet. In this lab, we will review the Pandas Library  in the context of an API, we will also review a basic REST API  \n"
      ]
    },
    {
      "cell_type": "markdown",
      "metadata": {
        "id": "i5gAeQHxYB2U"
      },
      "source": [
        "## Table of Contents\n",
        "\n",
        "<div class=\"alert alert-block alert-info\" style=\"margin-top: 20px\">\n",
        "<li><a href=\"#ref0\">Pandas is an API</a></li>\n",
        "<li><a href=\"#ref1\">REST APIs Basics  </a></li>\n",
        "<li><a href=\"#ref2\">Quiz on Tuples</a></li>\n",
        "\n",
        "</div>\n",
        "\n",
        "<hr>\n"
      ]
    },
    {
      "cell_type": "code",
      "metadata": {
        "jupyter": {
          "outputs_hidden": false
        },
        "id": "vip3sbowYB2V",
        "outputId": "8fea7d24-60a1-45cc-d806-99cc78548f3e",
        "colab": {
          "base_uri": "https://localhost:8080/"
        }
      },
      "source": [
        "!pip install pycoingecko\n",
        "!pip install plotly\n",
        "!pip install mplfinance"
      ],
      "execution_count": 1,
      "outputs": [
        {
          "output_type": "stream",
          "name": "stdout",
          "text": [
            "Collecting pycoingecko\n",
            "  Downloading pycoingecko-2.2.0-py3-none-any.whl (8.3 kB)\n",
            "Requirement already satisfied: requests in /usr/local/lib/python3.7/dist-packages (from pycoingecko) (2.23.0)\n",
            "Requirement already satisfied: certifi>=2017.4.17 in /usr/local/lib/python3.7/dist-packages (from requests->pycoingecko) (2021.10.8)\n",
            "Requirement already satisfied: idna<3,>=2.5 in /usr/local/lib/python3.7/dist-packages (from requests->pycoingecko) (2.10)\n",
            "Requirement already satisfied: urllib3!=1.25.0,!=1.25.1,<1.26,>=1.21.1 in /usr/local/lib/python3.7/dist-packages (from requests->pycoingecko) (1.24.3)\n",
            "Requirement already satisfied: chardet<4,>=3.0.2 in /usr/local/lib/python3.7/dist-packages (from requests->pycoingecko) (3.0.4)\n",
            "Installing collected packages: pycoingecko\n",
            "Successfully installed pycoingecko-2.2.0\n",
            "Requirement already satisfied: plotly in /usr/local/lib/python3.7/dist-packages (5.5.0)\n",
            "Requirement already satisfied: six in /usr/local/lib/python3.7/dist-packages (from plotly) (1.15.0)\n",
            "Requirement already satisfied: tenacity>=6.2.0 in /usr/local/lib/python3.7/dist-packages (from plotly) (8.0.1)\n",
            "Collecting mplfinance\n",
            "  Downloading mplfinance-0.12.8b9-py3-none-any.whl (70 kB)\n",
            "\u001b[K     |████████████████████████████████| 70 kB 5.3 MB/s \n",
            "\u001b[?25hRequirement already satisfied: matplotlib in /usr/local/lib/python3.7/dist-packages (from mplfinance) (3.2.2)\n",
            "Requirement already satisfied: pandas in /usr/local/lib/python3.7/dist-packages (from mplfinance) (1.3.5)\n",
            "Requirement already satisfied: python-dateutil>=2.1 in /usr/local/lib/python3.7/dist-packages (from matplotlib->mplfinance) (2.8.2)\n",
            "Requirement already satisfied: cycler>=0.10 in /usr/local/lib/python3.7/dist-packages (from matplotlib->mplfinance) (0.11.0)\n",
            "Requirement already satisfied: numpy>=1.11 in /usr/local/lib/python3.7/dist-packages (from matplotlib->mplfinance) (1.19.5)\n",
            "Requirement already satisfied: pyparsing!=2.0.4,!=2.1.2,!=2.1.6,>=2.0.1 in /usr/local/lib/python3.7/dist-packages (from matplotlib->mplfinance) (3.0.7)\n",
            "Requirement already satisfied: kiwisolver>=1.0.1 in /usr/local/lib/python3.7/dist-packages (from matplotlib->mplfinance) (1.3.2)\n",
            "Requirement already satisfied: six>=1.5 in /usr/local/lib/python3.7/dist-packages (from python-dateutil>=2.1->matplotlib->mplfinance) (1.15.0)\n",
            "Requirement already satisfied: pytz>=2017.3 in /usr/local/lib/python3.7/dist-packages (from pandas->mplfinance) (2018.9)\n",
            "Installing collected packages: mplfinance\n",
            "Successfully installed mplfinance-0.12.8b9\n"
          ]
        }
      ]
    },
    {
      "cell_type": "markdown",
      "metadata": {
        "id": "5K-DOi71YB2W"
      },
      "source": [
        "<h2 id=\"PandasAPI\">Pandas is an API </h2>\n"
      ]
    },
    {
      "cell_type": "markdown",
      "metadata": {
        "id": "2vsJ17xgYB2X"
      },
      "source": [
        "Pandas is actually set of software components , much of  which is not even written in Python.\n"
      ]
    },
    {
      "cell_type": "code",
      "metadata": {
        "jupyter": {
          "outputs_hidden": false
        },
        "id": "KKW2rBP3YB2X"
      },
      "source": [
        "import pandas as pd\n",
        "import numpy as np\n",
        "import plotly.graph_objects as go\n",
        "from plotly.offline import plot\n",
        "import matplotlib.pyplot as plt\n",
        "import datetime\n",
        "from pycoingecko import CoinGeckoAPI\n",
        "from mplfinance.original_flavor import candlestick2_ohlc"
      ],
      "execution_count": 2,
      "outputs": []
    },
    {
      "cell_type": "markdown",
      "metadata": {
        "id": "F9N9xpXOYB2Y"
      },
      "source": [
        "You create a dictionary, this is just data.\n"
      ]
    },
    {
      "cell_type": "code",
      "metadata": {
        "jupyter": {
          "outputs_hidden": false
        },
        "id": "oKUK_VhNYB2Z"
      },
      "source": [
        "dict_={'a':[11,21,31],'b':[12,22,32]}"
      ],
      "execution_count": 3,
      "outputs": []
    },
    {
      "cell_type": "markdown",
      "metadata": {
        "id": "s3Zr134mYB2Z"
      },
      "source": [
        "When you create a Pandas object with the Dataframe constructor in API lingo, this is an \"instance\". The data in the dictionary is passed along to the pandas API. You then use the dataframe to communicate with the API.\n"
      ]
    },
    {
      "cell_type": "code",
      "metadata": {
        "jupyter": {
          "outputs_hidden": false
        },
        "id": "WXnr2kXcYB2a",
        "outputId": "216cf1ad-ead3-4da9-b920-7c64ba3a0bab",
        "colab": {
          "base_uri": "https://localhost:8080/"
        }
      },
      "source": [
        "df=pd.DataFrame(dict_)\n",
        "type(df)"
      ],
      "execution_count": 4,
      "outputs": [
        {
          "output_type": "execute_result",
          "data": {
            "text/plain": [
              "pandas.core.frame.DataFrame"
            ]
          },
          "metadata": {},
          "execution_count": 4
        }
      ]
    },
    {
      "cell_type": "markdown",
      "metadata": {
        "id": "1WDS5SelYB2b"
      },
      "source": [
        "<img src = \"https://cf-courses-data.s3.us.cloud-object-storage.appdomain.cloud/IBMDeveloperSkillsNetwork-PY0101EN-SkillsNetwork/labs/Module%205/images/pandas_api.png\" width = 800, align = \"center\" alt=\"logistic regression block diagram\" />\n"
      ]
    },
    {
      "cell_type": "markdown",
      "metadata": {
        "id": "llBDiq87YB2b"
      },
      "source": [
        "When you call the method head the dataframe communicates with the API displaying the first few rows of the dataframe.\n"
      ]
    },
    {
      "cell_type": "code",
      "metadata": {
        "jupyter": {
          "outputs_hidden": false
        },
        "id": "Jz65sYcPYB2c",
        "outputId": "9843e78b-dc0c-46b3-e402-ece6170f450e",
        "colab": {
          "base_uri": "https://localhost:8080/",
          "height": 143
        }
      },
      "source": [
        "df.head()"
      ],
      "execution_count": 5,
      "outputs": [
        {
          "output_type": "execute_result",
          "data": {
            "text/html": [
              "\n",
              "  <div id=\"df-c25284bd-002d-42e5-b5b0-7f8e6a910084\">\n",
              "    <div class=\"colab-df-container\">\n",
              "      <div>\n",
              "<style scoped>\n",
              "    .dataframe tbody tr th:only-of-type {\n",
              "        vertical-align: middle;\n",
              "    }\n",
              "\n",
              "    .dataframe tbody tr th {\n",
              "        vertical-align: top;\n",
              "    }\n",
              "\n",
              "    .dataframe thead th {\n",
              "        text-align: right;\n",
              "    }\n",
              "</style>\n",
              "<table border=\"1\" class=\"dataframe\">\n",
              "  <thead>\n",
              "    <tr style=\"text-align: right;\">\n",
              "      <th></th>\n",
              "      <th>a</th>\n",
              "      <th>b</th>\n",
              "    </tr>\n",
              "  </thead>\n",
              "  <tbody>\n",
              "    <tr>\n",
              "      <th>0</th>\n",
              "      <td>11</td>\n",
              "      <td>12</td>\n",
              "    </tr>\n",
              "    <tr>\n",
              "      <th>1</th>\n",
              "      <td>21</td>\n",
              "      <td>22</td>\n",
              "    </tr>\n",
              "    <tr>\n",
              "      <th>2</th>\n",
              "      <td>31</td>\n",
              "      <td>32</td>\n",
              "    </tr>\n",
              "  </tbody>\n",
              "</table>\n",
              "</div>\n",
              "      <button class=\"colab-df-convert\" onclick=\"convertToInteractive('df-c25284bd-002d-42e5-b5b0-7f8e6a910084')\"\n",
              "              title=\"Convert this dataframe to an interactive table.\"\n",
              "              style=\"display:none;\">\n",
              "        \n",
              "  <svg xmlns=\"http://www.w3.org/2000/svg\" height=\"24px\"viewBox=\"0 0 24 24\"\n",
              "       width=\"24px\">\n",
              "    <path d=\"M0 0h24v24H0V0z\" fill=\"none\"/>\n",
              "    <path d=\"M18.56 5.44l.94 2.06.94-2.06 2.06-.94-2.06-.94-.94-2.06-.94 2.06-2.06.94zm-11 1L8.5 8.5l.94-2.06 2.06-.94-2.06-.94L8.5 2.5l-.94 2.06-2.06.94zm10 10l.94 2.06.94-2.06 2.06-.94-2.06-.94-.94-2.06-.94 2.06-2.06.94z\"/><path d=\"M17.41 7.96l-1.37-1.37c-.4-.4-.92-.59-1.43-.59-.52 0-1.04.2-1.43.59L10.3 9.45l-7.72 7.72c-.78.78-.78 2.05 0 2.83L4 21.41c.39.39.9.59 1.41.59.51 0 1.02-.2 1.41-.59l7.78-7.78 2.81-2.81c.8-.78.8-2.07 0-2.86zM5.41 20L4 18.59l7.72-7.72 1.47 1.35L5.41 20z\"/>\n",
              "  </svg>\n",
              "      </button>\n",
              "      \n",
              "  <style>\n",
              "    .colab-df-container {\n",
              "      display:flex;\n",
              "      flex-wrap:wrap;\n",
              "      gap: 12px;\n",
              "    }\n",
              "\n",
              "    .colab-df-convert {\n",
              "      background-color: #E8F0FE;\n",
              "      border: none;\n",
              "      border-radius: 50%;\n",
              "      cursor: pointer;\n",
              "      display: none;\n",
              "      fill: #1967D2;\n",
              "      height: 32px;\n",
              "      padding: 0 0 0 0;\n",
              "      width: 32px;\n",
              "    }\n",
              "\n",
              "    .colab-df-convert:hover {\n",
              "      background-color: #E2EBFA;\n",
              "      box-shadow: 0px 1px 2px rgba(60, 64, 67, 0.3), 0px 1px 3px 1px rgba(60, 64, 67, 0.15);\n",
              "      fill: #174EA6;\n",
              "    }\n",
              "\n",
              "    [theme=dark] .colab-df-convert {\n",
              "      background-color: #3B4455;\n",
              "      fill: #D2E3FC;\n",
              "    }\n",
              "\n",
              "    [theme=dark] .colab-df-convert:hover {\n",
              "      background-color: #434B5C;\n",
              "      box-shadow: 0px 1px 3px 1px rgba(0, 0, 0, 0.15);\n",
              "      filter: drop-shadow(0px 1px 2px rgba(0, 0, 0, 0.3));\n",
              "      fill: #FFFFFF;\n",
              "    }\n",
              "  </style>\n",
              "\n",
              "      <script>\n",
              "        const buttonEl =\n",
              "          document.querySelector('#df-c25284bd-002d-42e5-b5b0-7f8e6a910084 button.colab-df-convert');\n",
              "        buttonEl.style.display =\n",
              "          google.colab.kernel.accessAllowed ? 'block' : 'none';\n",
              "\n",
              "        async function convertToInteractive(key) {\n",
              "          const element = document.querySelector('#df-c25284bd-002d-42e5-b5b0-7f8e6a910084');\n",
              "          const dataTable =\n",
              "            await google.colab.kernel.invokeFunction('convertToInteractive',\n",
              "                                                     [key], {});\n",
              "          if (!dataTable) return;\n",
              "\n",
              "          const docLinkHtml = 'Like what you see? Visit the ' +\n",
              "            '<a target=\"_blank\" href=https://colab.research.google.com/notebooks/data_table.ipynb>data table notebook</a>'\n",
              "            + ' to learn more about interactive tables.';\n",
              "          element.innerHTML = '';\n",
              "          dataTable['output_type'] = 'display_data';\n",
              "          await google.colab.output.renderOutput(dataTable, element);\n",
              "          const docLink = document.createElement('div');\n",
              "          docLink.innerHTML = docLinkHtml;\n",
              "          element.appendChild(docLink);\n",
              "        }\n",
              "      </script>\n",
              "    </div>\n",
              "  </div>\n",
              "  "
            ],
            "text/plain": [
              "    a   b\n",
              "0  11  12\n",
              "1  21  22\n",
              "2  31  32"
            ]
          },
          "metadata": {},
          "execution_count": 5
        }
      ]
    },
    {
      "cell_type": "markdown",
      "metadata": {
        "id": "K2e-WBDhYB2c"
      },
      "source": [
        "When you call the method mean,the API will calculate the mean and return the value.\n"
      ]
    },
    {
      "cell_type": "code",
      "metadata": {
        "jupyter": {
          "outputs_hidden": false
        },
        "id": "QfG3k5jSYB2d",
        "outputId": "569b0f9d-c130-416b-bdea-9c2082aebcc7",
        "colab": {
          "base_uri": "https://localhost:8080/"
        }
      },
      "source": [
        "df.mean()"
      ],
      "execution_count": 6,
      "outputs": [
        {
          "output_type": "execute_result",
          "data": {
            "text/plain": [
              "a    21.0\n",
              "b    22.0\n",
              "dtype: float64"
            ]
          },
          "metadata": {},
          "execution_count": 6
        }
      ]
    },
    {
      "cell_type": "markdown",
      "metadata": {
        "id": "nLknS5MJYB2d"
      },
      "source": [
        "<h2 id=\"ref1\">REST APIs</h2>\n"
      ]
    },
    {
      "cell_type": "markdown",
      "metadata": {
        "id": "TzdNqCKHYB2e"
      },
      "source": [
        "Rest API’s function by sending a request,  the request is communicated via HTTP message. The HTTP message usually contains a JSON file. This contains instructions for what operation we would like the service or resource to perform. In a similar manner, API returns a response, via an HTTP message, this response is usually contained within a JSON.\n",
        "\n",
        "In cryptocurrency a popular method to display the movements of the price of a currency.\n",
        "\n",
        "![Example Candlestick Graph](https://cf-courses-data.s3.us.cloud-object-storage.appdomain.cloud/IBMDeveloperSkillsNetwork-PY0101EN-SkillsNetwork/labs/Module%205/candlestick.png)\n",
        "\n",
        "Here is a description of the candle sticks.\n",
        "\n",
        "<img src=\"https://cf-courses-data.s3.us.cloud-object-storage.appdomain.cloud/IBMDeveloperSkillsNetwork-PY0101EN-SkillsNetwork/labs/Module%205/explanation.png\" alt=\"Candle Stick Definition\" width=\"800\" height=\"600\">\n",
        "\n",
        "In this lab, we will be using the <a href=https://www.coingecko.com/en/api>CoinGecko API</a> to create one of these candlestick graphs for Bitcoin. We will use the API to get the price data for 30 days with 24 observation per day, 1 per hour. We will find the max, min, open, and close price per day meaning we will have 30 candlesticks and use that to generate the candlestick graph. Although we are using the CoinGecko API we will use a Python client/wrapper for the API called <a href=https://github.com/man-c/pycoingecko>PyCoinGecko</a>. PyCoinGecko will make performing the requests easy and it will deal with the enpoint targeting.\n"
      ]
    },
    {
      "cell_type": "markdown",
      "metadata": {
        "id": "dRYPy_hQYB2f"
      },
      "source": [
        "Lets start off by getting the data we need. Using the <code>get_coin_market_chart_by_id(id, vs_currency, days)</code>. <code>id</code> is the name of the coin you want, <code>vs_currency</code> is the currency you want the price in, and <code>days</code> is how many days back from today you want.\n"
      ]
    },
    {
      "cell_type": "code",
      "metadata": {
        "id": "N1EY8J9SYB2h"
      },
      "source": [
        "cg = CoinGeckoAPI()\n",
        "\n",
        "bitcoin_data = cg.get_coin_market_chart_by_id(id='bitcoin', vs_currency='usd', days=30)"
      ],
      "execution_count": 7,
      "outputs": []
    },
    {
      "cell_type": "code",
      "metadata": {
        "id": "AriQZTV-YB2i",
        "outputId": "b56b24d2-bf13-4929-f7d8-c210341c3107",
        "colab": {
          "base_uri": "https://localhost:8080/"
        }
      },
      "source": [
        "type(bitcoin_data )"
      ],
      "execution_count": 8,
      "outputs": [
        {
          "output_type": "execute_result",
          "data": {
            "text/plain": [
              "dict"
            ]
          },
          "metadata": {},
          "execution_count": 8
        }
      ]
    },
    {
      "cell_type": "markdown",
      "metadata": {
        "id": "abygD1dkYB2i"
      },
      "source": [
        "The response we get is in the form of a JSON which includes the price, market caps, and total volumes along with timestamps for each observation. We are focused on the prices so we will select that data.\n"
      ]
    },
    {
      "cell_type": "code",
      "metadata": {
        "id": "tJm32PqNYB2j",
        "outputId": "1ca225c1-7d76-4e9e-e3a8-7843a9f52104",
        "colab": {
          "base_uri": "https://localhost:8080/"
        }
      },
      "source": [
        "bitcoin_price_data = bitcoin_data['prices']\n",
        "\n",
        "bitcoin_price_data[0:5]"
      ],
      "execution_count": 9,
      "outputs": [
        {
          "output_type": "execute_result",
          "data": {
            "text/plain": [
              "[[1641740481132, 41697.62145515702],\n",
              " [1641744142908, 41699.74767272069],\n",
              " [1641747778464, 42259.3531251793],\n",
              " [1641751414348, 42126.082987655245],\n",
              " [1641754986109, 42187.10149327908]]"
            ]
          },
          "metadata": {},
          "execution_count": 9
        }
      ]
    },
    {
      "cell_type": "markdown",
      "metadata": {
        "id": "YBcuc7PVYB2j"
      },
      "source": [
        "Finally lets turn this data into a Pandas DataFrame.\n"
      ]
    },
    {
      "cell_type": "code",
      "metadata": {
        "id": "cUu61ef6YB2k"
      },
      "source": [
        "data = pd.DataFrame(bitcoin_price_data, columns=['TimeStamp', 'Price'])"
      ],
      "execution_count": 10,
      "outputs": []
    },
    {
      "cell_type": "markdown",
      "metadata": {
        "id": "kppYOdGtYB2k"
      },
      "source": [
        "Now that we have the DataFrame we will convert the timestamp to datetime and save it as a column called <code>Date</code>. We will map our <code>unix_to_datetime</code> to each timestamp and convert it to a readable datetime.\n"
      ]
    },
    {
      "cell_type": "code",
      "metadata": {
        "id": "UzLkhuV3YB2k"
      },
      "source": [
        "data['Date'] = pd.to_datetime(data['TimeStamp'], unit='ms')"
      ],
      "execution_count": 11,
      "outputs": []
    },
    {
      "cell_type": "markdown",
      "metadata": {
        "id": "JYLqLgzfYB2l"
      },
      "source": [
        "Using this modified dataset we can now group by the <code>Date</code> and find the min, max, open, and close for the candlesticks.\n"
      ]
    },
    {
      "cell_type": "code",
      "metadata": {
        "id": "QfT0exJwYB2l"
      },
      "source": [
        "candlestick_data = data.groupby(data.Date.dt.date, as_index=False).agg({\"Price\": ['min', 'max', 'first', 'last']})"
      ],
      "execution_count": 12,
      "outputs": []
    },
    {
      "cell_type": "markdown",
      "metadata": {
        "id": "tlbyft8hYB2m"
      },
      "source": [
        "Finally we are now ready to use plotly to create our Candlestick Chart.\n"
      ]
    },
    {
      "cell_type": "code",
      "metadata": {
        "id": "6JSoXvwjYB2m",
        "outputId": "9606287a-5900-4a14-f033-ed76dfe1aec8",
        "colab": {
          "base_uri": "https://localhost:8080/",
          "height": 542
        }
      },
      "source": [
        "fig = go.Figure(data=[go.Candlestick(x=data['Date'],\n",
        "                open=candlestick_data['Price']['first'], \n",
        "                high=candlestick_data['Price']['max'],\n",
        "                low=candlestick_data['Price']['min'], \n",
        "                close=candlestick_data['Price']['last'])\n",
        "                ])\n",
        "\n",
        "fig.update_layout(xaxis_rangeslider_visible=False)\n",
        "\n",
        "fig.show()"
      ],
      "execution_count": 13,
      "outputs": [
        {
          "output_type": "display_data",
          "data": {
            "text/html": [
              "<html>\n",
              "<head><meta charset=\"utf-8\" /></head>\n",
              "<body>\n",
              "    <div>            <script src=\"https://cdnjs.cloudflare.com/ajax/libs/mathjax/2.7.5/MathJax.js?config=TeX-AMS-MML_SVG\"></script><script type=\"text/javascript\">if (window.MathJax) {MathJax.Hub.Config({SVG: {font: \"STIX-Web\"}});}</script>                <script type=\"text/javascript\">window.PlotlyConfig = {MathJaxConfig: 'local'};</script>\n",
              "        <script src=\"https://cdn.plot.ly/plotly-2.8.3.min.js\"></script>                <div id=\"4e0c4ec8-65c9-400b-8950-5e491047884c\" class=\"plotly-graph-div\" style=\"height:525px; width:100%;\"></div>            <script type=\"text/javascript\">                                    window.PLOTLYENV=window.PLOTLYENV || {};                                    if (document.getElementById(\"4e0c4ec8-65c9-400b-8950-5e491047884c\")) {                    Plotly.newPlot(                        \"4e0c4ec8-65c9-400b-8950-5e491047884c\",                        [{\"close\":[42218.57126578665,41656.505042558805,42836.282931337686,43933.94798971295,42641.77574380057,43433.83319474636,43323.334689302115,43225.92579999611,42346.541012394795,42498.47853946216,42035.87953978328,41244.72558790132,35761.710943672675,34935.31059784646,35578.38113726986,36313.84895185083,36833.93079566088,36776.53224146219,36974.7497498298,37742.296334791674,38191.791040398246,37874.99796720115,38494.392526614065,38728.89008488232,37175.509611103014,36928.70902447315,40717.52828413114,41663.43309484516,41708.01010082238,44183.676336816665,43666.312828612434],\"high\":[42755.76334790146,42409.43949411891,43161.26720258187,44142.95617046611,44046.08436602141,43494.76826815796,43621.32296679522,43445.73263441537,43119.79214308028,42498.47853946216,42652.55815588597,43308.03956681778,41011.486226241585,36639.176855482365,36066.53867510662,37475.90835787767,37364.884606724365,38566.22508438554,37053.06453570276,37907.74005009467,38509.11533552563,38333.50041978721,38563.86326209492,39048.30602879875,38801.34254479085,37179.77573704698,40781.15617420619,41837.961720181695,41769.5761196765,44425.79322218256,44938.3602667806],\"low\":[41697.62145515702,40683.26965807297,41628.0329959911,42590.282253812686,42641.77574380057,42024.69661257974,42669.96652910112,42819.45590325531,41756.89208374346,41356.61112815827,41265.005495175465,41244.72558790132,35761.710943672675,34527.6528378289,34804.560652713786,33505.71385790957,35932.24680133195,36480.07828971702,35622.94356709955,36301.5145817071,37540.930535916974,37575.72871145612,36920.786339158105,38277.927203377985,36907.86555379729,36438.718199252864,37101.351593780935,41315.19190223586,41388.23702513483,41887.515947013984,43499.75098848698],\"open\":[41697.62145515702,41862.3609856517,41890.545239659165,42811.149099488095,43981.87732717414,42608.41001195019,43191.97077835075,43173.14113478345,43119.79214308028,42311.13096812778,42395.45879157343,41749.55143098559,40707.6824143097,36385.341362730935,35180.435462830384,36306.409440464704,36774.00714224005,36988.928510667356,37007.385905588635,37276.839558174994,37852.57902803263,38232.17873217708,37983.151499406464,38555.53446121157,38801.34254479085,37000.98249864199,37101.351593780935,41673.8395543094,41493.690050910525,42475.543220951215,43910.929986443094],\"x\":[\"2022-01-09T15:01:21.132000\",\"2022-01-09T16:02:22.908000\",\"2022-01-09T17:02:58.464000\",\"2022-01-09T18:03:34.348000\",\"2022-01-09T19:03:06.109000\",\"2022-01-09T20:05:49.231000\",\"2022-01-09T21:03:28.944000\",\"2022-01-09T22:04:44.859000\",\"2022-01-09T23:03:39.512000\",\"2022-01-10T00:02:30.310000\",\"2022-01-10T01:02:04.678000\",\"2022-01-10T02:01:22.130000\",\"2022-01-10T03:04:37.216000\",\"2022-01-10T04:04:13.076000\",\"2022-01-10T05:01:41.055000\",\"2022-01-10T06:01:32.515000\",\"2022-01-10T07:06:05.919000\",\"2022-01-10T08:03:48.202000\",\"2022-01-10T09:03:39.345000\",\"2022-01-10T10:03:20.733000\",\"2022-01-10T11:01:04.569000\",\"2022-01-10T12:04:43.813000\",\"2022-01-10T13:03:51.175000\",\"2022-01-10T14:03:49.205000\",\"2022-01-10T15:05:01.665000\",\"2022-01-10T16:02:41.037000\",\"2022-01-10T17:04:03.594000\",\"2022-01-10T18:00:34.220000\",\"2022-01-10T19:05:22.658000\",\"2022-01-10T20:03:42.491000\",\"2022-01-10T21:03:25.816000\",\"2022-01-10T22:05:59.543000\",\"2022-01-10T23:02:55.536000\",\"2022-01-11T00:06:52.461000\",\"2022-01-11T01:01:01.189000\",\"2022-01-11T02:02:03.502000\",\"2022-01-11T03:03:00.543000\",\"2022-01-11T04:04:46.320000\",\"2022-01-11T05:04:01.591000\",\"2022-01-11T06:01:27.106000\",\"2022-01-11T07:08:30.050000\",\"2022-01-11T08:05:09.731000\",\"2022-01-11T09:03:01.511000\",\"2022-01-11T10:06:58.486000\",\"2022-01-11T11:03:34.463000\",\"2022-01-11T12:02:14.194000\",\"2022-01-11T13:04:00.594000\",\"2022-01-11T14:02:49.558000\",\"2022-01-11T15:00:46.541000\",\"2022-01-11T16:04:56.520000\",\"2022-01-11T17:03:09.186000\",\"2022-01-11T18:04:10.508000\",\"2022-01-11T19:05:47.995000\",\"2022-01-11T20:04:39.225000\",\"2022-01-11T21:04:21.951000\",\"2022-01-11T22:04:05.625000\",\"2022-01-11T23:03:59.886000\",\"2022-01-12T00:06:30.831000\",\"2022-01-12T01:01:02.841000\",\"2022-01-12T02:03:46.561000\",\"2022-01-12T03:03:47.767000\",\"2022-01-12T04:04:35.622000\",\"2022-01-12T05:01:09.095000\",\"2022-01-12T06:01:54.368000\",\"2022-01-12T07:00:54.286000\",\"2022-01-12T08:02:25.540000\",\"2022-01-12T09:06:17.552000\",\"2022-01-12T10:03:44.871000\",\"2022-01-12T11:03:17.324000\",\"2022-01-12T12:00:06.392000\",\"2022-01-12T13:02:25.560000\",\"2022-01-12T14:02:06.309000\",\"2022-01-12T15:01:12.650000\",\"2022-01-12T16:10:41.953000\",\"2022-01-12T17:03:54.663000\",\"2022-01-12T18:01:54.034000\",\"2022-01-12T19:07:34.026000\",\"2022-01-12T20:03:33.930000\",\"2022-01-12T21:00:38.046000\",\"2022-01-12T22:03:42.806000\",\"2022-01-12T23:02:15.522000\",\"2022-01-13T00:04:12.744000\",\"2022-01-13T01:01:50.007000\",\"2022-01-13T02:00:15.490000\",\"2022-01-13T03:03:58.630000\",\"2022-01-13T04:02:51.347000\",\"2022-01-13T05:04:10.941000\",\"2022-01-13T06:01:17.650000\",\"2022-01-13T07:10:00.287000\",\"2022-01-13T08:01:19.336000\",\"2022-01-13T09:02:34.485000\",\"2022-01-13T10:03:26.085000\",\"2022-01-13T11:03:51.247000\",\"2022-01-13T12:03:53.653000\",\"2022-01-13T13:07:08.777000\",\"2022-01-13T14:03:16.289000\",\"2022-01-13T15:07:51.956000\",\"2022-01-13T16:01:13.636000\",\"2022-01-13T17:00:26.543000\",\"2022-01-13T18:02:07.774000\",\"2022-01-13T19:00:55.812000\",\"2022-01-13T20:04:14.943000\",\"2022-01-13T21:05:58.197000\",\"2022-01-13T22:00:49.198000\",\"2022-01-13T23:05:06.976000\",\"2022-01-14T00:01:21.011000\",\"2022-01-14T01:17:32.338000\",\"2022-01-14T02:02:44.703000\",\"2022-01-14T03:00:38.747000\",\"2022-01-14T04:01:39.597000\",\"2022-01-14T05:01:07.530000\",\"2022-01-14T06:04:31.662000\",\"2022-01-14T07:02:16.242000\",\"2022-01-14T08:03:46.384000\",\"2022-01-14T09:02:22.242000\",\"2022-01-14T10:00:43.976000\",\"2022-01-14T11:03:21.533000\",\"2022-01-14T12:05:20.439000\",\"2022-01-14T13:00:43.047000\",\"2022-01-14T14:04:09.799000\",\"2022-01-14T15:04:15.814000\",\"2022-01-14T16:03:27.596000\",\"2022-01-14T17:02:11.024000\",\"2022-01-14T18:04:51.067000\",\"2022-01-14T19:02:49.502000\",\"2022-01-14T20:03:10.408000\",\"2022-01-14T21:00:05.173000\",\"2022-01-14T22:02:57.111000\",\"2022-01-14T23:02:01.013000\",\"2022-01-15T00:06:10.751000\",\"2022-01-15T01:20:16.010000\",\"2022-01-15T02:00:55.506000\",\"2022-01-15T03:02:59.850000\",\"2022-01-15T04:05:37.205000\",\"2022-01-15T05:04:04.459000\",\"2022-01-15T06:05:50.140000\",\"2022-01-15T07:10:19.619000\",\"2022-01-15T08:02:29.404000\",\"2022-01-15T09:01:24.919000\",\"2022-01-15T10:04:41.345000\",\"2022-01-15T11:00:02.214000\",\"2022-01-15T12:04:44.170000\",\"2022-01-15T13:05:21.086000\",\"2022-01-15T14:04:04.972000\",\"2022-01-15T15:03:22.163000\",\"2022-01-15T16:00:26.503000\",\"2022-01-15T17:02:17.207000\",\"2022-01-15T18:04:33.560000\",\"2022-01-15T19:07:32.736000\",\"2022-01-15T20:03:52.900000\",\"2022-01-15T21:03:19.162000\",\"2022-01-15T22:04:59.485000\",\"2022-01-15T23:00:00.635000\",\"2022-01-16T00:04:21.449000\",\"2022-01-16T01:00:20.485000\",\"2022-01-16T02:00:49.143000\",\"2022-01-16T03:00:43.350000\",\"2022-01-16T04:01:53.648000\",\"2022-01-16T05:03:53.595000\",\"2022-01-16T06:01:44.483000\",\"2022-01-16T07:01:58.825000\",\"2022-01-16T08:01:41.830000\",\"2022-01-16T09:00:26.318000\",\"2022-01-16T10:02:06.617000\",\"2022-01-16T11:01:02.789000\",\"2022-01-16T12:02:47.664000\",\"2022-01-16T13:01:21.808000\",\"2022-01-16T14:01:59.255000\",\"2022-01-16T15:00:52.476000\",\"2022-01-16T16:00:52.470000\",\"2022-01-16T17:01:48.364000\",\"2022-01-16T18:00:37.802000\",\"2022-01-16T19:01:06.560000\",\"2022-01-16T20:00:13.811000\",\"2022-01-16T21:01:52.715000\",\"2022-01-16T22:02:10.894000\",\"2022-01-16T23:02:07.989000\",\"2022-01-17T00:00:46.044000\",\"2022-01-17T01:18:14.692000\",\"2022-01-17T02:01:50.897000\",\"2022-01-17T03:01:57.068000\",\"2022-01-17T04:00:36.421000\",\"2022-01-17T05:00:33.127000\",\"2022-01-17T06:02:12.413000\",\"2022-01-17T07:00:38.825000\",\"2022-01-17T08:00:34.920000\",\"2022-01-17T09:04:37.789000\",\"2022-01-17T10:02:20.231000\",\"2022-01-17T11:00:37.341000\",\"2022-01-17T12:00:53.261000\",\"2022-01-17T13:02:13.130000\",\"2022-01-17T14:00:22.319000\",\"2022-01-17T15:01:06.253000\",\"2022-01-17T16:04:35.100000\",\"2022-01-17T17:00:53.722000\",\"2022-01-17T18:03:14.070000\",\"2022-01-17T19:04:53.756000\",\"2022-01-17T20:02:08.774000\",\"2022-01-17T21:01:10.106000\",\"2022-01-17T22:01:58.900000\",\"2022-01-17T23:01:17.923000\",\"2022-01-18T00:02:41.403000\",\"2022-01-18T01:12:49.285000\",\"2022-01-18T02:01:35.036000\",\"2022-01-18T03:01:05.285000\",\"2022-01-18T04:01:06.863000\",\"2022-01-18T05:03:11.362000\",\"2022-01-18T06:02:45.736000\",\"2022-01-18T07:00:04.082000\",\"2022-01-18T08:02:23.052000\",\"2022-01-18T09:02:47.754000\",\"2022-01-18T10:01:39.392000\",\"2022-01-18T11:00:53.184000\",\"2022-01-18T12:02:22.334000\",\"2022-01-18T13:02:39.133000\",\"2022-01-18T14:01:21.569000\",\"2022-01-18T15:01:17.038000\",\"2022-01-18T16:02:03.376000\",\"2022-01-18T17:02:17.159000\",\"2022-01-18T18:03:03.594000\",\"2022-01-18T19:01:06.377000\",\"2022-01-18T20:04:57.311000\",\"2022-01-18T21:02:01.904000\",\"2022-01-18T22:00:31.985000\",\"2022-01-18T23:00:37.453000\",\"2022-01-19T00:01:13.450000\",\"2022-01-19T01:03:49.144000\",\"2022-01-19T02:02:54.831000\",\"2022-01-19T03:02:09.780000\",\"2022-01-19T04:03:00.424000\",\"2022-01-19T05:01:37.700000\",\"2022-01-19T06:02:37.122000\",\"2022-01-19T07:04:48.262000\",\"2022-01-19T08:00:46.250000\",\"2022-01-19T09:03:08.822000\",\"2022-01-19T10:02:21.303000\",\"2022-01-19T11:01:03.989000\",\"2022-01-19T12:03:22.287000\",\"2022-01-19T13:00:45.462000\",\"2022-01-19T14:02:01.347000\",\"2022-01-19T15:02:44.168000\",\"2022-01-19T16:03:45.687000\",\"2022-01-19T17:03:58.743000\",\"2022-01-19T18:00:53.442000\",\"2022-01-19T19:03:39.192000\",\"2022-01-19T20:02:24.973000\",\"2022-01-19T21:01:18.457000\",\"2022-01-19T22:00:58.614000\",\"2022-01-19T23:02:38.721000\",\"2022-01-20T00:00:05.471000\",\"2022-01-20T01:12:49.518000\",\"2022-01-20T02:01:59.959000\",\"2022-01-20T03:01:39.541000\",\"2022-01-20T04:01:35.109000\",\"2022-01-20T05:02:09.816000\",\"2022-01-20T06:01:54.025000\",\"2022-01-20T07:04:12.361000\",\"2022-01-20T08:02:53.630000\",\"2022-01-20T09:03:26.880000\",\"2022-01-20T10:00:07.732000\",\"2022-01-20T11:02:04.869000\",\"2022-01-20T12:00:57.034000\",\"2022-01-20T13:02:21.769000\",\"2022-01-20T14:00:52.649000\",\"2022-01-20T15:01:44.488000\",\"2022-01-20T16:03:29.592000\",\"2022-01-20T17:01:45.291000\",\"2022-01-20T18:00:08.567000\",\"2022-01-20T19:00:47.727000\",\"2022-01-20T20:01:51.675000\",\"2022-01-20T21:02:43.338000\",\"2022-01-20T22:01:54.837000\",\"2022-01-20T23:00:55.169000\",\"2022-01-21T00:00:59.219000\",\"2022-01-21T01:00:14.802000\",\"2022-01-21T02:00:38.307000\",\"2022-01-21T03:00:45.516000\",\"2022-01-21T04:00:32.525000\",\"2022-01-21T05:02:54.260000\",\"2022-01-21T06:02:11.144000\",\"2022-01-21T07:02:14.002000\",\"2022-01-21T08:02:18.990000\",\"2022-01-21T09:06:12.492000\",\"2022-01-21T10:00:31.219000\",\"2022-01-21T11:01:37.123000\",\"2022-01-21T12:01:45.275000\",\"2022-01-21T13:02:51.389000\",\"2022-01-21T14:00:39.856000\",\"2022-01-21T15:01:18.422000\",\"2022-01-21T16:00:09.533000\",\"2022-01-21T17:02:52.974000\",\"2022-01-21T18:01:55.113000\",\"2022-01-21T19:01:29.302000\",\"2022-01-21T20:02:22.047000\",\"2022-01-21T21:00:14.773000\",\"2022-01-21T22:00:02.972000\",\"2022-01-21T23:01:50.522000\",\"2022-01-22T00:04:08.015000\",\"2022-01-22T01:21:11.774000\",\"2022-01-22T02:01:13.862000\",\"2022-01-22T03:02:28.357000\",\"2022-01-22T04:02:32.214000\",\"2022-01-22T05:02:30.453000\",\"2022-01-22T06:03:01.738000\",\"2022-01-22T07:02:28.400000\",\"2022-01-22T08:00:29.026000\",\"2022-01-22T09:06:19.605000\",\"2022-01-22T10:00:02.154000\",\"2022-01-22T11:02:12.824000\",\"2022-01-22T12:01:00.526000\",\"2022-01-22T13:00:36.347000\",\"2022-01-22T14:00:31.930000\",\"2022-01-22T15:06:17.964000\",\"2022-01-22T16:00:00.863000\",\"2022-01-22T17:01:25.598000\",\"2022-01-22T18:00:29.377000\",\"2022-01-22T19:07:59.406000\",\"2022-01-22T20:01:47.361000\",\"2022-01-22T21:01:42.767000\",\"2022-01-22T22:00:39.111000\",\"2022-01-22T23:02:32.509000\",\"2022-01-23T00:02:46.621000\",\"2022-01-23T01:00:04.966000\",\"2022-01-23T02:02:42.311000\",\"2022-01-23T03:00:30.933000\",\"2022-01-23T04:01:48.104000\",\"2022-01-23T05:02:31.050000\",\"2022-01-23T06:00:59.189000\",\"2022-01-23T07:02:05.713000\",\"2022-01-23T08:02:31.086000\",\"2022-01-23T09:02:55.653000\",\"2022-01-23T10:03:30.452000\",\"2022-01-23T11:00:48.639000\",\"2022-01-23T12:03:02.142000\",\"2022-01-23T13:00:55.334000\",\"2022-01-23T14:03:28.245000\",\"2022-01-23T15:03:13.192000\",\"2022-01-23T16:12:06.416000\",\"2022-01-23T17:00:38.487000\",\"2022-01-23T18:00:36.652000\",\"2022-01-23T19:01:27.734000\",\"2022-01-23T20:03:20.712000\",\"2022-01-23T21:02:30.755000\",\"2022-01-23T22:00:29.876000\",\"2022-01-23T23:01:40.086000\",\"2022-01-24T00:00:49.012000\",\"2022-01-24T01:08:58.625000\",\"2022-01-24T02:03:05.208000\",\"2022-01-24T03:01:05.806000\",\"2022-01-24T04:03:22.199000\",\"2022-01-24T05:00:16.526000\",\"2022-01-24T06:00:43.814000\",\"2022-01-24T07:00:46.676000\",\"2022-01-24T08:03:07.792000\",\"2022-01-24T09:01:08.440000\",\"2022-01-24T10:03:02.437000\",\"2022-01-24T11:03:18.022000\",\"2022-01-24T12:02:52.657000\",\"2022-01-24T13:02:04.134000\",\"2022-01-24T14:02:18.662000\",\"2022-01-24T15:03:20.939000\",\"2022-01-24T16:00:17.595000\",\"2022-01-24T17:03:19.243000\",\"2022-01-24T18:00:30.455000\",\"2022-01-24T19:02:12.932000\",\"2022-01-24T20:02:59.072000\",\"2022-01-24T21:02:07.489000\",\"2022-01-24T22:02:05.877000\",\"2022-01-24T23:00:43.184000\",\"2022-01-25T00:03:09.232000\",\"2022-01-25T01:21:19.094000\",\"2022-01-25T02:00:25.081000\",\"2022-01-25T03:03:04.619000\",\"2022-01-25T04:01:59.489000\",\"2022-01-25T05:03:02.336000\",\"2022-01-25T06:02:19.043000\",\"2022-01-25T07:04:46.771000\",\"2022-01-25T08:01:34.247000\",\"2022-01-25T09:01:32.755000\",\"2022-01-25T10:01:29.461000\",\"2022-01-25T11:03:20.013000\",\"2022-01-25T12:03:43.013000\",\"2022-01-25T13:00:37.444000\",\"2022-01-25T14:02:19.112000\",\"2022-01-25T15:02:19.108000\",\"2022-01-25T16:01:12.427000\",\"2022-01-25T17:02:56.218000\",\"2022-01-25T18:03:46.442000\",\"2022-01-25T19:02:17.453000\",\"2022-01-25T20:03:11.471000\",\"2022-01-25T21:02:51.424000\",\"2022-01-25T22:02:22.051000\",\"2022-01-25T23:10:35.313000\",\"2022-01-26T00:00:55.920000\",\"2022-01-26T01:00:23.706000\",\"2022-01-26T02:00:09.873000\",\"2022-01-26T03:02:45.984000\",\"2022-01-26T04:02:01.352000\",\"2022-01-26T05:01:48.168000\",\"2022-01-26T06:01:49.397000\",\"2022-01-26T07:01:53.680000\",\"2022-01-26T08:00:38.655000\",\"2022-01-26T09:00:44.895000\",\"2022-01-26T10:02:00.165000\",\"2022-01-26T11:02:38.228000\",\"2022-01-26T12:02:34.869000\",\"2022-01-26T13:00:17.469000\",\"2022-01-26T14:02:27.600000\",\"2022-01-26T15:01:37.386000\",\"2022-01-26T16:04:39.592000\",\"2022-01-26T17:00:58.988000\",\"2022-01-26T18:02:17.505000\",\"2022-01-26T19:21:24.390000\",\"2022-01-26T20:21:10.103000\",\"2022-01-26T21:22:22.400000\",\"2022-01-26T22:23:06.212000\",\"2022-01-26T23:22:59.070000\",\"2022-01-27T00:22:30.697000\",\"2022-01-27T02:01:07.567000\",\"2022-01-27T03:01:33.565000\",\"2022-01-27T04:01:37.487000\",\"2022-01-27T05:01:27.448000\",\"2022-01-27T06:01:52.024000\",\"2022-01-27T07:00:15.218000\",\"2022-01-27T08:00:06.237000\",\"2022-01-27T09:01:12.397000\",\"2022-01-27T10:00:05.410000\",\"2022-01-27T11:01:05.740000\",\"2022-01-27T12:00:52.924000\",\"2022-01-27T13:01:38.748000\",\"2022-01-27T14:00:36.772000\",\"2022-01-27T15:00:04.484000\",\"2022-01-27T16:00:58.476000\",\"2022-01-27T17:00:14.408000\",\"2022-01-27T18:01:22.087000\",\"2022-01-27T19:03:26.045000\",\"2022-01-27T20:00:40.844000\",\"2022-01-27T21:00:05.990000\",\"2022-01-27T22:01:00.487000\",\"2022-01-27T23:01:03.547000\",\"2022-01-28T00:01:13.940000\",\"2022-01-28T01:06:51.334000\",\"2022-01-28T02:00:30.254000\",\"2022-01-28T03:01:02.806000\",\"2022-01-28T04:00:35.233000\",\"2022-01-28T05:00:26.923000\",\"2022-01-28T06:00:29.825000\",\"2022-01-28T07:02:42.119000\",\"2022-01-28T08:00:41.688000\",\"2022-01-28T09:00:58.681000\",\"2022-01-28T10:01:36.759000\",\"2022-01-28T11:00:12.357000\",\"2022-01-28T12:00:34.044000\",\"2022-01-28T13:02:00.327000\",\"2022-01-28T14:03:06.182000\",\"2022-01-28T15:00:40.440000\",\"2022-01-28T16:00:40.469000\",\"2022-01-28T17:01:57.456000\",\"2022-01-28T18:01:53.443000\",\"2022-01-28T19:01:50.502000\",\"2022-01-28T20:01:38.629000\",\"2022-01-28T21:02:44.800000\",\"2022-01-28T22:00:23.605000\",\"2022-01-28T23:01:56.966000\",\"2022-01-29T00:01:33.573000\",\"2022-01-29T01:03:47.527000\",\"2022-01-29T02:00:30.428000\",\"2022-01-29T03:01:09.670000\",\"2022-01-29T04:01:33.886000\",\"2022-01-29T05:02:09.321000\",\"2022-01-29T06:01:55.055000\",\"2022-01-29T07:00:03.796000\",\"2022-01-29T08:01:09.620000\",\"2022-01-29T09:00:30.809000\",\"2022-01-29T10:01:20.713000\",\"2022-01-29T11:00:56.154000\",\"2022-01-29T12:01:23.140000\",\"2022-01-29T13:01:28.064000\",\"2022-01-29T14:01:40.565000\",\"2022-01-29T15:01:18.211000\",\"2022-01-29T16:01:12.658000\",\"2022-01-29T17:02:06.204000\",\"2022-01-29T18:01:48.716000\",\"2022-01-29T19:01:40.684000\",\"2022-01-29T20:00:27.155000\",\"2022-01-29T21:02:10.674000\",\"2022-01-29T22:00:08.602000\",\"2022-01-29T23:00:25.348000\",\"2022-01-30T00:01:47.820000\",\"2022-01-30T01:00:02.775000\",\"2022-01-30T02:00:06.438000\",\"2022-01-30T03:01:57.649000\",\"2022-01-30T04:01:30.037000\",\"2022-01-30T05:00:05.656000\",\"2022-01-30T06:01:48.695000\",\"2022-01-30T07:00:59.250000\",\"2022-01-30T08:00:08.809000\",\"2022-01-30T09:01:34.837000\",\"2022-01-30T10:01:22.253000\",\"2022-01-30T11:01:13.839000\",\"2022-01-30T12:05:08.605000\",\"2022-01-30T13:00:30.712000\",\"2022-01-30T14:01:17.179000\",\"2022-01-30T15:00:36.047000\",\"2022-01-30T16:02:27.802000\",\"2022-01-30T17:01:03.395000\",\"2022-01-30T18:00:49.038000\",\"2022-01-30T19:02:01.839000\",\"2022-01-30T20:00:37.385000\",\"2022-01-30T21:01:54.891000\",\"2022-01-30T22:00:19.192000\",\"2022-01-30T23:01:50.246000\",\"2022-01-31T00:02:01.396000\",\"2022-01-31T01:00:34.017000\",\"2022-01-31T02:01:51.384000\",\"2022-01-31T03:01:37.468000\",\"2022-01-31T04:01:43.398000\",\"2022-01-31T05:01:43.878000\",\"2022-01-31T06:01:54.855000\",\"2022-01-31T07:01:46.904000\",\"2022-01-31T08:00:44.678000\",\"2022-01-31T09:02:21.031000\",\"2022-01-31T10:00:19.251000\",\"2022-01-31T11:01:31.680000\",\"2022-01-31T12:00:20.573000\",\"2022-01-31T13:00:37.476000\",\"2022-01-31T14:00:30.618000\",\"2022-01-31T15:01:07.846000\",\"2022-01-31T16:02:07.711000\",\"2022-01-31T17:00:29.387000\",\"2022-01-31T18:00:43.565000\",\"2022-01-31T19:02:28.644000\",\"2022-01-31T20:01:37.858000\",\"2022-01-31T21:00:33.220000\",\"2022-01-31T22:01:23.216000\",\"2022-01-31T23:00:11.982000\",\"2022-02-01T00:01:46.811000\",\"2022-02-01T01:00:20.568000\",\"2022-02-01T02:00:14.525000\",\"2022-02-01T03:01:26.928000\",\"2022-02-01T04:01:57.624000\",\"2022-02-01T05:00:33.636000\",\"2022-02-01T06:01:44.154000\",\"2022-02-01T07:02:35.129000\",\"2022-02-01T08:02:50.193000\",\"2022-02-01T08:06:27.024000\",\"2022-02-01T09:03:27.027000\",\"2022-02-01T10:01:43.495000\",\"2022-02-01T11:01:07.368000\",\"2022-02-01T12:01:22.415000\",\"2022-02-01T13:03:31.339000\",\"2022-02-01T14:00:49.014000\",\"2022-02-01T15:01:45.481000\",\"2022-02-01T16:02:07.222000\",\"2022-02-01T17:01:57.543000\",\"2022-02-01T18:01:21.201000\",\"2022-02-01T19:01:35.915000\",\"2022-02-01T20:02:16.311000\",\"2022-02-01T21:00:17.588000\",\"2022-02-01T22:02:23.762000\",\"2022-02-01T23:02:04.959000\",\"2022-02-02T00:01:22.272000\",\"2022-02-02T01:00:38.239000\",\"2022-02-02T02:01:52.712000\",\"2022-02-02T03:01:48.399000\",\"2022-02-02T04:02:34.431000\",\"2022-02-02T05:00:51.066000\",\"2022-02-02T06:01:34\",\"2022-02-02T07:02:10.196000\",\"2022-02-02T08:01:56.415000\",\"2022-02-02T09:06:17.722000\",\"2022-02-02T10:00:08.043000\",\"2022-02-02T11:02:00.294000\",\"2022-02-02T12:00:48.125000\",\"2022-02-02T13:00:33.503000\",\"2022-02-02T14:02:12.407000\",\"2022-02-02T15:01:39.970000\",\"2022-02-02T16:02:17.679000\",\"2022-02-02T17:01:24.001000\",\"2022-02-02T18:00:16.007000\",\"2022-02-02T19:01:20.746000\",\"2022-02-02T20:00:28.203000\",\"2022-02-02T21:02:17.586000\",\"2022-02-02T22:00:07.454000\",\"2022-02-02T23:02:16.915000\",\"2022-02-03T00:00:20.429000\",\"2022-02-03T01:01:37.964000\",\"2022-02-03T02:02:37.475000\",\"2022-02-03T03:00:59.674000\",\"2022-02-03T04:00:09.494000\",\"2022-02-03T05:01:06.059000\",\"2022-02-03T06:00:11.532000\",\"2022-02-03T07:02:12.811000\",\"2022-02-03T08:01:08.849000\",\"2022-02-03T09:07:20.045000\",\"2022-02-03T10:02:15.583000\",\"2022-02-03T11:02:16.408000\",\"2022-02-03T12:01:27.898000\",\"2022-02-03T13:00:52.220000\",\"2022-02-03T14:00:14.014000\",\"2022-02-03T15:01:17.167000\",\"2022-02-03T16:01:20.906000\",\"2022-02-03T17:01:31.332000\",\"2022-02-03T18:02:45.415000\",\"2022-02-03T19:00:50.328000\",\"2022-02-03T20:01:00.983000\",\"2022-02-03T21:00:47.626000\",\"2022-02-03T22:01:43.470000\",\"2022-02-03T23:02:21.890000\",\"2022-02-04T00:02:27.634000\",\"2022-02-04T01:01:02.823000\",\"2022-02-04T02:00:15.902000\",\"2022-02-04T03:02:03.844000\",\"2022-02-04T04:01:37.646000\",\"2022-02-04T05:01:01.044000\",\"2022-02-04T06:02:19.901000\",\"2022-02-04T07:00:05.660000\",\"2022-02-04T08:00:24.190000\",\"2022-02-04T09:07:41.598000\",\"2022-02-04T10:01:55.495000\",\"2022-02-04T11:00:59.352000\",\"2022-02-04T12:01:47.254000\",\"2022-02-04T13:01:13.832000\",\"2022-02-04T14:00:14.855000\",\"2022-02-04T15:00:39.493000\",\"2022-02-04T16:01:23.181000\",\"2022-02-04T17:03:05.912000\",\"2022-02-04T18:00:42.338000\",\"2022-02-04T19:02:23.974000\",\"2022-02-04T20:02:06.602000\",\"2022-02-04T21:01:16.235000\",\"2022-02-04T22:00:47.194000\",\"2022-02-04T23:01:52.524000\",\"2022-02-05T00:02:20.487000\",\"2022-02-05T01:00:09.456000\",\"2022-02-05T02:00:45.214000\",\"2022-02-05T03:02:33.620000\",\"2022-02-05T04:01:17.354000\",\"2022-02-05T05:00:59.789000\",\"2022-02-05T06:02:24.681000\",\"2022-02-05T07:01:48.823000\",\"2022-02-05T08:01:32.045000\",\"2022-02-05T09:05:14.244000\",\"2022-02-05T10:00:32.450000\",\"2022-02-05T11:02:11.156000\",\"2022-02-05T12:02:17.684000\",\"2022-02-05T13:01:36.887000\",\"2022-02-05T14:02:19.927000\",\"2022-02-05T15:01:38.224000\",\"2022-02-05T16:01:10.578000\",\"2022-02-05T17:01:24.986000\",\"2022-02-05T18:02:36.824000\",\"2022-02-05T19:01:34.028000\",\"2022-02-05T20:02:09.056000\",\"2022-02-05T21:02:04.238000\",\"2022-02-05T22:01:20.726000\",\"2022-02-05T23:02:10.994000\",\"2022-02-06T00:02:19.163000\",\"2022-02-06T01:02:16.146000\",\"2022-02-06T02:00:30.570000\",\"2022-02-06T03:00:00.686000\",\"2022-02-06T04:01:42.071000\",\"2022-02-06T05:00:58.211000\",\"2022-02-06T06:01:22.461000\",\"2022-02-06T07:00:59.145000\",\"2022-02-06T08:02:00.298000\",\"2022-02-06T09:01:37.295000\",\"2022-02-06T10:01:19.309000\",\"2022-02-06T11:02:24.727000\",\"2022-02-06T12:01:47.620000\",\"2022-02-06T13:00:14.048000\",\"2022-02-06T14:01:51.207000\",\"2022-02-06T15:01:18.309000\",\"2022-02-06T16:00:53.181000\",\"2022-02-06T17:00:42.268000\",\"2022-02-06T18:00:54.729000\",\"2022-02-06T19:01:50.713000\",\"2022-02-06T20:01:07.653000\",\"2022-02-06T21:01:39.390000\",\"2022-02-06T22:02:04.509000\",\"2022-02-06T23:01:22.323000\",\"2022-02-07T00:00:21.982000\",\"2022-02-07T01:00:21.797000\",\"2022-02-07T02:01:45.714000\",\"2022-02-07T03:01:15.524000\",\"2022-02-07T04:01:06.048000\",\"2022-02-07T05:02:05.903000\",\"2022-02-07T06:00:52.726000\",\"2022-02-07T07:01:46.524000\",\"2022-02-07T08:01:03.282000\",\"2022-02-07T09:06:11.210000\",\"2022-02-07T10:01:02.192000\",\"2022-02-07T11:00:10.506000\",\"2022-02-07T12:13:04.060000\",\"2022-02-07T13:01:47.602000\",\"2022-02-07T14:01:11.440000\",\"2022-02-07T15:01:41.834000\",\"2022-02-07T16:01:30.622000\",\"2022-02-07T17:00:22.902000\",\"2022-02-07T18:01:39.766000\",\"2022-02-07T19:00:58.593000\",\"2022-02-07T20:01:19.729000\",\"2022-02-07T21:00:26.883000\",\"2022-02-07T22:01:34.830000\",\"2022-02-07T23:00:09.644000\",\"2022-02-08T00:01:04.336000\",\"2022-02-08T01:07:32.658000\",\"2022-02-08T02:00:18.129000\",\"2022-02-08T03:00:22.483000\",\"2022-02-08T04:01:38.271000\",\"2022-02-08T05:02:02.299000\",\"2022-02-08T06:01:25.872000\",\"2022-02-08T07:03:26.143000\",\"2022-02-08T08:01:56.007000\",\"2022-02-08T09:01:36.272000\",\"2022-02-08T10:02:09.788000\",\"2022-02-08T11:01:32.288000\",\"2022-02-08T12:00:29.218000\",\"2022-02-08T13:01:45.593000\",\"2022-02-08T14:01:41.816000\",\"2022-02-08T14:07:46\"],\"type\":\"candlestick\"}],                        {\"template\":{\"data\":{\"bar\":[{\"error_x\":{\"color\":\"#2a3f5f\"},\"error_y\":{\"color\":\"#2a3f5f\"},\"marker\":{\"line\":{\"color\":\"#E5ECF6\",\"width\":0.5},\"pattern\":{\"fillmode\":\"overlay\",\"size\":10,\"solidity\":0.2}},\"type\":\"bar\"}],\"barpolar\":[{\"marker\":{\"line\":{\"color\":\"#E5ECF6\",\"width\":0.5},\"pattern\":{\"fillmode\":\"overlay\",\"size\":10,\"solidity\":0.2}},\"type\":\"barpolar\"}],\"carpet\":[{\"aaxis\":{\"endlinecolor\":\"#2a3f5f\",\"gridcolor\":\"white\",\"linecolor\":\"white\",\"minorgridcolor\":\"white\",\"startlinecolor\":\"#2a3f5f\"},\"baxis\":{\"endlinecolor\":\"#2a3f5f\",\"gridcolor\":\"white\",\"linecolor\":\"white\",\"minorgridcolor\":\"white\",\"startlinecolor\":\"#2a3f5f\"},\"type\":\"carpet\"}],\"choropleth\":[{\"colorbar\":{\"outlinewidth\":0,\"ticks\":\"\"},\"type\":\"choropleth\"}],\"contour\":[{\"colorbar\":{\"outlinewidth\":0,\"ticks\":\"\"},\"colorscale\":[[0.0,\"#0d0887\"],[0.1111111111111111,\"#46039f\"],[0.2222222222222222,\"#7201a8\"],[0.3333333333333333,\"#9c179e\"],[0.4444444444444444,\"#bd3786\"],[0.5555555555555556,\"#d8576b\"],[0.6666666666666666,\"#ed7953\"],[0.7777777777777778,\"#fb9f3a\"],[0.8888888888888888,\"#fdca26\"],[1.0,\"#f0f921\"]],\"type\":\"contour\"}],\"contourcarpet\":[{\"colorbar\":{\"outlinewidth\":0,\"ticks\":\"\"},\"type\":\"contourcarpet\"}],\"heatmap\":[{\"colorbar\":{\"outlinewidth\":0,\"ticks\":\"\"},\"colorscale\":[[0.0,\"#0d0887\"],[0.1111111111111111,\"#46039f\"],[0.2222222222222222,\"#7201a8\"],[0.3333333333333333,\"#9c179e\"],[0.4444444444444444,\"#bd3786\"],[0.5555555555555556,\"#d8576b\"],[0.6666666666666666,\"#ed7953\"],[0.7777777777777778,\"#fb9f3a\"],[0.8888888888888888,\"#fdca26\"],[1.0,\"#f0f921\"]],\"type\":\"heatmap\"}],\"heatmapgl\":[{\"colorbar\":{\"outlinewidth\":0,\"ticks\":\"\"},\"colorscale\":[[0.0,\"#0d0887\"],[0.1111111111111111,\"#46039f\"],[0.2222222222222222,\"#7201a8\"],[0.3333333333333333,\"#9c179e\"],[0.4444444444444444,\"#bd3786\"],[0.5555555555555556,\"#d8576b\"],[0.6666666666666666,\"#ed7953\"],[0.7777777777777778,\"#fb9f3a\"],[0.8888888888888888,\"#fdca26\"],[1.0,\"#f0f921\"]],\"type\":\"heatmapgl\"}],\"histogram\":[{\"marker\":{\"pattern\":{\"fillmode\":\"overlay\",\"size\":10,\"solidity\":0.2}},\"type\":\"histogram\"}],\"histogram2d\":[{\"colorbar\":{\"outlinewidth\":0,\"ticks\":\"\"},\"colorscale\":[[0.0,\"#0d0887\"],[0.1111111111111111,\"#46039f\"],[0.2222222222222222,\"#7201a8\"],[0.3333333333333333,\"#9c179e\"],[0.4444444444444444,\"#bd3786\"],[0.5555555555555556,\"#d8576b\"],[0.6666666666666666,\"#ed7953\"],[0.7777777777777778,\"#fb9f3a\"],[0.8888888888888888,\"#fdca26\"],[1.0,\"#f0f921\"]],\"type\":\"histogram2d\"}],\"histogram2dcontour\":[{\"colorbar\":{\"outlinewidth\":0,\"ticks\":\"\"},\"colorscale\":[[0.0,\"#0d0887\"],[0.1111111111111111,\"#46039f\"],[0.2222222222222222,\"#7201a8\"],[0.3333333333333333,\"#9c179e\"],[0.4444444444444444,\"#bd3786\"],[0.5555555555555556,\"#d8576b\"],[0.6666666666666666,\"#ed7953\"],[0.7777777777777778,\"#fb9f3a\"],[0.8888888888888888,\"#fdca26\"],[1.0,\"#f0f921\"]],\"type\":\"histogram2dcontour\"}],\"mesh3d\":[{\"colorbar\":{\"outlinewidth\":0,\"ticks\":\"\"},\"type\":\"mesh3d\"}],\"parcoords\":[{\"line\":{\"colorbar\":{\"outlinewidth\":0,\"ticks\":\"\"}},\"type\":\"parcoords\"}],\"pie\":[{\"automargin\":true,\"type\":\"pie\"}],\"scatter\":[{\"marker\":{\"colorbar\":{\"outlinewidth\":0,\"ticks\":\"\"}},\"type\":\"scatter\"}],\"scatter3d\":[{\"line\":{\"colorbar\":{\"outlinewidth\":0,\"ticks\":\"\"}},\"marker\":{\"colorbar\":{\"outlinewidth\":0,\"ticks\":\"\"}},\"type\":\"scatter3d\"}],\"scattercarpet\":[{\"marker\":{\"colorbar\":{\"outlinewidth\":0,\"ticks\":\"\"}},\"type\":\"scattercarpet\"}],\"scattergeo\":[{\"marker\":{\"colorbar\":{\"outlinewidth\":0,\"ticks\":\"\"}},\"type\":\"scattergeo\"}],\"scattergl\":[{\"marker\":{\"colorbar\":{\"outlinewidth\":0,\"ticks\":\"\"}},\"type\":\"scattergl\"}],\"scattermapbox\":[{\"marker\":{\"colorbar\":{\"outlinewidth\":0,\"ticks\":\"\"}},\"type\":\"scattermapbox\"}],\"scatterpolar\":[{\"marker\":{\"colorbar\":{\"outlinewidth\":0,\"ticks\":\"\"}},\"type\":\"scatterpolar\"}],\"scatterpolargl\":[{\"marker\":{\"colorbar\":{\"outlinewidth\":0,\"ticks\":\"\"}},\"type\":\"scatterpolargl\"}],\"scatterternary\":[{\"marker\":{\"colorbar\":{\"outlinewidth\":0,\"ticks\":\"\"}},\"type\":\"scatterternary\"}],\"surface\":[{\"colorbar\":{\"outlinewidth\":0,\"ticks\":\"\"},\"colorscale\":[[0.0,\"#0d0887\"],[0.1111111111111111,\"#46039f\"],[0.2222222222222222,\"#7201a8\"],[0.3333333333333333,\"#9c179e\"],[0.4444444444444444,\"#bd3786\"],[0.5555555555555556,\"#d8576b\"],[0.6666666666666666,\"#ed7953\"],[0.7777777777777778,\"#fb9f3a\"],[0.8888888888888888,\"#fdca26\"],[1.0,\"#f0f921\"]],\"type\":\"surface\"}],\"table\":[{\"cells\":{\"fill\":{\"color\":\"#EBF0F8\"},\"line\":{\"color\":\"white\"}},\"header\":{\"fill\":{\"color\":\"#C8D4E3\"},\"line\":{\"color\":\"white\"}},\"type\":\"table\"}]},\"layout\":{\"annotationdefaults\":{\"arrowcolor\":\"#2a3f5f\",\"arrowhead\":0,\"arrowwidth\":1},\"autotypenumbers\":\"strict\",\"coloraxis\":{\"colorbar\":{\"outlinewidth\":0,\"ticks\":\"\"}},\"colorscale\":{\"diverging\":[[0,\"#8e0152\"],[0.1,\"#c51b7d\"],[0.2,\"#de77ae\"],[0.3,\"#f1b6da\"],[0.4,\"#fde0ef\"],[0.5,\"#f7f7f7\"],[0.6,\"#e6f5d0\"],[0.7,\"#b8e186\"],[0.8,\"#7fbc41\"],[0.9,\"#4d9221\"],[1,\"#276419\"]],\"sequential\":[[0.0,\"#0d0887\"],[0.1111111111111111,\"#46039f\"],[0.2222222222222222,\"#7201a8\"],[0.3333333333333333,\"#9c179e\"],[0.4444444444444444,\"#bd3786\"],[0.5555555555555556,\"#d8576b\"],[0.6666666666666666,\"#ed7953\"],[0.7777777777777778,\"#fb9f3a\"],[0.8888888888888888,\"#fdca26\"],[1.0,\"#f0f921\"]],\"sequentialminus\":[[0.0,\"#0d0887\"],[0.1111111111111111,\"#46039f\"],[0.2222222222222222,\"#7201a8\"],[0.3333333333333333,\"#9c179e\"],[0.4444444444444444,\"#bd3786\"],[0.5555555555555556,\"#d8576b\"],[0.6666666666666666,\"#ed7953\"],[0.7777777777777778,\"#fb9f3a\"],[0.8888888888888888,\"#fdca26\"],[1.0,\"#f0f921\"]]},\"colorway\":[\"#636efa\",\"#EF553B\",\"#00cc96\",\"#ab63fa\",\"#FFA15A\",\"#19d3f3\",\"#FF6692\",\"#B6E880\",\"#FF97FF\",\"#FECB52\"],\"font\":{\"color\":\"#2a3f5f\"},\"geo\":{\"bgcolor\":\"white\",\"lakecolor\":\"white\",\"landcolor\":\"#E5ECF6\",\"showlakes\":true,\"showland\":true,\"subunitcolor\":\"white\"},\"hoverlabel\":{\"align\":\"left\"},\"hovermode\":\"closest\",\"mapbox\":{\"style\":\"light\"},\"paper_bgcolor\":\"white\",\"plot_bgcolor\":\"#E5ECF6\",\"polar\":{\"angularaxis\":{\"gridcolor\":\"white\",\"linecolor\":\"white\",\"ticks\":\"\"},\"bgcolor\":\"#E5ECF6\",\"radialaxis\":{\"gridcolor\":\"white\",\"linecolor\":\"white\",\"ticks\":\"\"}},\"scene\":{\"xaxis\":{\"backgroundcolor\":\"#E5ECF6\",\"gridcolor\":\"white\",\"gridwidth\":2,\"linecolor\":\"white\",\"showbackground\":true,\"ticks\":\"\",\"zerolinecolor\":\"white\"},\"yaxis\":{\"backgroundcolor\":\"#E5ECF6\",\"gridcolor\":\"white\",\"gridwidth\":2,\"linecolor\":\"white\",\"showbackground\":true,\"ticks\":\"\",\"zerolinecolor\":\"white\"},\"zaxis\":{\"backgroundcolor\":\"#E5ECF6\",\"gridcolor\":\"white\",\"gridwidth\":2,\"linecolor\":\"white\",\"showbackground\":true,\"ticks\":\"\",\"zerolinecolor\":\"white\"}},\"shapedefaults\":{\"line\":{\"color\":\"#2a3f5f\"}},\"ternary\":{\"aaxis\":{\"gridcolor\":\"white\",\"linecolor\":\"white\",\"ticks\":\"\"},\"baxis\":{\"gridcolor\":\"white\",\"linecolor\":\"white\",\"ticks\":\"\"},\"bgcolor\":\"#E5ECF6\",\"caxis\":{\"gridcolor\":\"white\",\"linecolor\":\"white\",\"ticks\":\"\"}},\"title\":{\"x\":0.05},\"xaxis\":{\"automargin\":true,\"gridcolor\":\"white\",\"linecolor\":\"white\",\"ticks\":\"\",\"title\":{\"standoff\":15},\"zerolinecolor\":\"white\",\"zerolinewidth\":2},\"yaxis\":{\"automargin\":true,\"gridcolor\":\"white\",\"linecolor\":\"white\",\"ticks\":\"\",\"title\":{\"standoff\":15},\"zerolinecolor\":\"white\",\"zerolinewidth\":2}}},\"xaxis\":{\"rangeslider\":{\"visible\":false}}},                        {\"responsive\": true}                    ).then(function(){\n",
              "                            \n",
              "var gd = document.getElementById('4e0c4ec8-65c9-400b-8950-5e491047884c');\n",
              "var x = new MutationObserver(function (mutations, observer) {{\n",
              "        var display = window.getComputedStyle(gd).display;\n",
              "        if (!display || display === 'none') {{\n",
              "            console.log([gd, 'removed!']);\n",
              "            Plotly.purge(gd);\n",
              "            observer.disconnect();\n",
              "        }}\n",
              "}});\n",
              "\n",
              "// Listen for the removal of the full notebook cells\n",
              "var notebookContainer = gd.closest('#notebook-container');\n",
              "if (notebookContainer) {{\n",
              "    x.observe(notebookContainer, {childList: true});\n",
              "}}\n",
              "\n",
              "// Listen for the clearing of the current output cell\n",
              "var outputEl = gd.closest('.output');\n",
              "if (outputEl) {{\n",
              "    x.observe(outputEl, {childList: true});\n",
              "}}\n",
              "\n",
              "                        })                };                            </script>        </div>\n",
              "</body>\n",
              "</html>"
            ]
          },
          "metadata": {}
        }
      ]
    },
    {
      "cell_type": "markdown",
      "metadata": {
        "id": "VcU9uTkkYB2n"
      },
      "source": [
        "## Authors:\n",
        "\n",
        "## Change Log\n",
        "\n",
        "| Date (YYYY-MM-DD) | Version | Changed By    | Change Description                 |\n",
        "| ----------------- | ------- | ------------- | ---------------------------------- |\n",
        "| 2020-11-23        | 3.0     | Azim Hirjani  | New API                            |\n",
        "| 2020-09-09        | 2.1     | Malika Singla | Spell Check                        |\n",
        "| 2020-08-26        | 2.0     | Lavanya       | Moved lab to course repo in GitLab |\n",
        "|                   |         |               |                                    |\n",
        "\n",
        "<hr/>\n",
        "\n",
        "## <h3 align=\"center\"> © IBM Corporation 2020. All rights reserved. <h3/>\n"
      ]
    },
    {
      "cell_type": "code",
      "metadata": {
        "id": "Yzd4CGhAYB2o"
      },
      "source": [
        ""
      ],
      "execution_count": null,
      "outputs": []
    }
  ]
}